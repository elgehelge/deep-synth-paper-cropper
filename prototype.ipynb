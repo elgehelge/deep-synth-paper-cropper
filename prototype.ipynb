version https://git-lfs.github.com/spec/v1
oid sha256:23d87b41ab0b4c0795d4dd47078c64af16ec382681d1e929317f6b8710f94546
size 696257
