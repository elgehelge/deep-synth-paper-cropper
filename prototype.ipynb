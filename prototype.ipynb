version https://git-lfs.github.com/spec/v1
oid sha256:7ab44af28b57d145ea44df54eea7743b451eb25833cd59690b5b4db54540e9f8
size 696581
